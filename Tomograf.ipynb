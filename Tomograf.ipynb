{
 "cells": [
  {
   "cell_type": "code",
   "execution_count": 2,
   "metadata": {},
   "outputs": [],
   "source": [
    "%matplotlib inline\n",
    "import numpy as np\n",
    "import math\n",
    "import warnings\n",
    "from skimage import io\n",
    "from pylab import *\n",
    "from matplotlib import pylab as plt\n",
    "import matplotlib.image as mpimg\n",
    "from matplotlib.pyplot import imshow\n",
    "from __future__ import print_function\n",
    "from ipywidgets import interact, interactive, fixed, interact_manual\n",
    "import ipywidgets as widgets\n",
    "import pydicom\n",
    "warnings.simplefilter(\"ignore\")"
   ]
  },
  {
   "cell_type": "code",
   "execution_count": 3,
   "metadata": {},
   "outputs": [],
   "source": [
    "def bresenham(x1, y1, x2, y2):\n",
    "    x = x1\n",
    "    y = y1\n",
    "    points = []\n",
    "    if x1 < x2:\n",
    "        xi = 1\n",
    "        dx = x2 - x1\n",
    "    else:\n",
    "        xi = -1\n",
    "        dx = x1 - x2\n",
    "\n",
    "    if y1 < y2:\n",
    "        yi = 1\n",
    "        dy = y2 - y1\n",
    "    else:\n",
    "        yi = -1\n",
    "        dy = y1 - y1\n",
    "\n",
    "    points.append([x,y])\n",
    "    \n",
    "    if dx > dy:\n",
    "        ai = (dy - dx) * 2\n",
    "        bi = dy * 2\n",
    "        d = bi - dx\n",
    "        while x != x2:\n",
    "            if d >= 0:\n",
    "                x += xi\n",
    "                y += yi\n",
    "                d += ai\n",
    "            else:\n",
    "                x += xi\n",
    "                d += bi\n",
    "            points.append([x,y])\n",
    "    else:\n",
    "        ai = (dx - dy) * 2\n",
    "        bi = dx * 2\n",
    "        d = bi - dy\n",
    "        while y != y2:\n",
    "            if d >= 0:\n",
    "                x += xi\n",
    "                y += yi\n",
    "                d += ai\n",
    "            else:\n",
    "                y += yi\n",
    "                d += bi\n",
    "            points.append([x,y])\n",
    "\n",
    "    return points"
   ]
  },
  {
   "cell_type": "code",
   "execution_count": 4,
   "metadata": {},
   "outputs": [],
   "source": [
    "def sum_points(points, img):\n",
    "    sumOfPoints = 0\n",
    "    for point in points:\n",
    "        sumOfPoints += img[point[0],point[1]]\n",
    "    return sumOfPoints"
   ]
  },
  {
   "cell_type": "code",
   "execution_count": 5,
   "metadata": {},
   "outputs": [],
   "source": [
    "def sum_points_mean(points, img):\n",
    "    sumOfPoints = sum_points(points,img)\n",
    "    sumOfPoints = sumOfPoints/len(points)\n",
    "    return sumOfPoints"
   ]
  },
  {
   "cell_type": "code",
   "execution_count": 6,
   "metadata": {},
   "outputs": [],
   "source": [
    "def coordToCart(angle, cx, cy, radius):\n",
    "    x = int(math.cos(math.radians(angle)) * (radius)) + cx\n",
    "    y = int(math.sin(math.radians(angle)) * (radius)) + cy\n",
    "    return x,y"
   ]
  },
  {
   "cell_type": "code",
   "execution_count": 21,
   "metadata": {},
   "outputs": [],
   "source": [
    "def doTomography(img, inc_angle=2, emiter_angle=80.0, detectors=21, up_to_angle = 0):\n",
    "    # Przyrost katów inc_angle emitera (położenie emitera), kąt z jakim wysyłane są fale (emiter_angle)\n",
    "    beta = emiter_angle*2\n",
    "    emiters = img.copy()\n",
    "    img_size = img.shape[0]\n",
    "    centre = int(img_size/2)\n",
    "    radius = centre-5\n",
    "    sinogram = np.zeros((int(360/inc_angle),detectors))\n",
    "\n",
    "    to_angle = 720 if up_to_angle == 0 else up_to_angle\n",
    "    \n",
    "    #petla - kazda pozycja emitera\n",
    "    for ang in range(0, to_angle, inc_angle):\n",
    "        angle = ang/2.0\n",
    "        emiter_x, emiter_y = coordToCart(angle, centre, centre, radius)\n",
    "        emiters[emiter_y, emiter_x] = 255\n",
    "    \n",
    "        #petla - kazda pozycja detektora\n",
    "        for a in range(detectors):\n",
    "            alfa = angle + 180 - beta/2 + a*beta/(detectors-1)\n",
    "            detx, dety = coordToCart(alfa, centre, centre, radius)\n",
    "            \n",
    "            if dety < emiter_y:\n",
    "                points = bresenham(detx, dety, emiter_x, emiter_y)\n",
    "            else:\n",
    "                points = bresenham(emiter_x, emiter_y, detx, dety)\n",
    "\n",
    "            sinogram[int(angle/inc_angle),a] = sum_points(points, img)\n",
    "            \n",
    "    return emiters, sinogram"
   ]
  },
  {
   "cell_type": "code",
   "execution_count": 6,
   "metadata": {},
   "outputs": [],
   "source": [
    "def createOffset(img, offset=1.5):\n",
    "    #square = np.zeros((square_size,square_size), dtype=np.float64)\n",
    "    #square[int(square_size/3):int(2*square_size/3), int(square_size/3):int(2*square_size/3)]=255\n",
    "    #square[0:square_size,0:square_size] = 255\n",
    "    square_size = img.shape[0]\n",
    "\n",
    "    side = int((int(square_size*offset) - square_size)/2)\n",
    "    image = np.zeros((int(square_size*offset),int(square_size*offset)))\n",
    "    for i in range(square_size):\n",
    "        for j in range(square_size):\n",
    "            image[i+side,j+side]= img[i,j]\n",
    "    return image"
   ]
  },
  {
   "cell_type": "code",
   "execution_count": 7,
   "metadata": {},
   "outputs": [],
   "source": [
    "def takeAwayOffset(img, offset = 1.5):\n",
    "    square_size = img.shape[0]\n",
    "    size_without_offset = int(math.ceil(square_size/offset))\n",
    "\n",
    "    side = int((square_size - size_without_offset)/2)\n",
    "    image = np.zeros((size_without_offset,size_without_offset))\n",
    "    for i in range(size_without_offset):\n",
    "        for j in range(size_without_offset):\n",
    "            image[i,j]= img[i+side,j+side]\n",
    "    return image"
   ]
  },
  {
   "cell_type": "code",
   "execution_count": 8,
   "metadata": {},
   "outputs": [],
   "source": [
    "def calculateError(img,img2):\n",
    "    if len(img) != len(img2):\n",
    "        return (False, 0)\n",
    "    if len(img[0]) != len(img2[0]):\n",
    "        return (False, 0)\n",
    "    error = 0.0\n",
    "    for i in range(len(img)):\n",
    "        for j in range(len(img[i])):\n",
    "            error = error + (img[i,j]-img2[i,j])**2\n",
    "    return (True, error)"
   ]
  },
  {
   "cell_type": "code",
   "execution_count": 9,
   "metadata": {},
   "outputs": [],
   "source": [
    "def blurImage(img):\n",
    "    print(len(img))\n",
    "    newImage = np.zeros((len(img),len(img[0])),dtype=np.float64)\n",
    "    print(newImage)\n",
    "    for i in range(len(img)):\n",
    "        for j in range(len(img[i])):\n",
    "            if(i!=0 and i!=len(img)-1 and j!=0 and j!=len(img[i])-1):\n",
    "                newImage[i,j] = (img[i-1,j-1] + img[i-1,j]*2 + img[i-1,j+1] + img[i,j-1]*2 + img[i,j]*3 + img[i,j+1]*2 + img[i+1,j-1] + img[i+1,j]*2 + img[i+1,j+1])/15\n",
    "            else:\n",
    "                newImage[i,j] = img[i,j]\n",
    "    return newImage"
   ]
  },
  {
   "cell_type": "code",
   "execution_count": 10,
   "metadata": {},
   "outputs": [],
   "source": [
    "def createSquare(square_size=500):\n",
    "    square = 254*np.ones((square_size,square_size), dtype=np.float64)\n",
    "    return square"
   ]
  },
  {
   "cell_type": "code",
   "execution_count": 20,
   "metadata": {},
   "outputs": [],
   "source": [
    "def doInvTomography(sinogram, img_size, inc_angle=2, emiter_angle=15.0, detectors=21, up_to_angle = 0):\n",
    "    # Przyrost katów inc_angle emitera (położenie emitera), kąt z jakim wysyłane są fale (emiter_angle)\n",
    "    beta = emiter_angle*2\n",
    "    centre = int(img_size/2)\n",
    "#     print(im)\n",
    "    radius = centre-5\n",
    "    #print(sinogram)\n",
    "    img = np.zeros((img_size, img_size))\n",
    "\n",
    "    to_angle = 720 if up_to_angle == 0 else up_to_angle\n",
    "    \n",
    "    #petla - kazda pozycja emitera\n",
    "    for ang in range(0, to_angle, inc_angle):\n",
    "        angle = ang/2.0\n",
    "        emiter_x, emiter_y = coordToCart(angle, centre, centre, radius)\n",
    "        \n",
    "        \n",
    "        #petla - kazda pozycja detektora\n",
    "        for a in range(detectors):\n",
    "            alfa = angle + 180 - beta/2 + a*beta/(detectors-1)\n",
    "            detx, dety = coordToCart(alfa, centre, centre, radius)\n",
    "            #image[detx,dety] = 155\n",
    "            if dety < emiter_y:\n",
    "                points = bresenham(detx, dety, emiter_x, emiter_y)\n",
    "            else:\n",
    "                points = bresenham(emiter_x, emiter_y, detx, dety)\n",
    "\n",
    "            for point in points:\n",
    "             #   print(point[1], point[0])\n",
    "                img[point[0], point[1]] += int(sinogram[int(angle/inc_angle), a])\n",
    "    #fig, ax = plt.subplots(figsize=(20,10))\n",
    "    #ax.imshow(image, cmap='gray')\n",
    "    #ax.imshow(img, cmap='gray')\n",
    "    return img"
   ]
  },
  {
   "cell_type": "code",
   "execution_count": 12,
   "metadata": {},
   "outputs": [],
   "source": [
    "def normalize(img):\n",
    "    min_value = np.min(img)\n",
    "    max_value = np.max(img)\n",
    "    print(max_value, min_value)\n",
    "    for i in range(len(img)):\n",
    "        for j in range(len(img[i])):\n",
    "            img[i,j]=(img[i,j] - min_value)/(max_value-min_value) *255\n",
    "            \n",
    "    return img"
   ]
  },
  {
   "cell_type": "code",
   "execution_count": 13,
   "metadata": {},
   "outputs": [],
   "source": [
    "def cutDownValues(img, cutDownValue = 15):\n",
    "    for i in range(len(img)):\n",
    "        for j in range(len(img[i])):\n",
    "            img[i,j] = img[i,j] - cutDownValue if img[i,j] - cutDownValue > 0 else 0\n",
    "    return img"
   ]
  },
  {
   "cell_type": "code",
   "execution_count": 24,
   "metadata": {},
   "outputs": [],
   "source": [
    "def main(file='square', square_size=500, offset=1.5, inc_angle=2, emiter_angle=15.0, detectors=21, withOffset = False, toAngle=0):\n",
    "    if file != 'square':\n",
    "        img = mpimg.imread(file)\n",
    "    else:\n",
    "        img = createSquare(square_size)\n",
    "    \n",
    "    #obrazek wyjsciowy z offsetem\n",
    "    fig = figure(figsize=(40,40))\n",
    "    if withOffset:\n",
    "        imgWithOffset = createOffset(img, offset)\n",
    "    else:\n",
    "        imgWithOffset = img\n",
    "        \n",
    "        \n",
    "    imagesCount = 3\n",
    "    \n",
    "        \n",
    "        \n",
    "        \n",
    "    subplot(imagesCount,1,1)\n",
    "    imshow(imgWithOffset, cmap='gray')\n",
    "    imgSize = imgWithOffset.shape[0]\n",
    "    \n",
    "    #sinogram\n",
    "    emiters, sinogram = doTomography(imgWithOffset, inc_angle, emiter_angle, detectors, up_to_angle = toAngle)\n",
    "    subplot(imagesCount,2,1)\n",
    "    imshow(sinogram, cmap='gray')\n",
    "    \n",
    "    #obrazem z sinogramu\n",
    "    imgFromSinogram = doInvTomography(sinogram, imgSize, inc_angle, emiter_angle, detectors, up_to_angle = toAngle)\n",
    "#     subplot(imagesCount,1,3)\n",
    "#     imshow(imgFromSinogram, cmap='gray')\n",
    "    \n",
    "    imgWithoutOffset = takeAwayOffset(imgFromSinogram,offset)\n",
    "#     subplot(imagesCount,1,4)\n",
    "#     imshow(imgWithoutOffset, cmap='gray')\n",
    "    \n",
    "    bluredImage = blurImage(imgWithoutOffset)\n",
    "#     subplot(imagesCount,1,5)\n",
    "#     imshow(bluredImage,cmap='gray')\n",
    "    \n",
    "    normalized_image = normalize(bluredImage)\n",
    "#     subplot(imagesCount,1,6)\n",
    "#     imshow(normalized_image,cmap='gray')\n",
    "    \n",
    "    cutDownImage = cutDownValues(normalized_image,cutDownValue = 50)\n",
    "    subplot(imagesCount,3,1)\n",
    "    imshow(bluredImage,cmap='gray')\n",
    "    \n",
    "    print(calculateError(img,imgWithoutOffset))\n",
    "    \n",
    "#     subplot(imagesCount,1,8)\n",
    "#     imshow(emiters, cmap='gray')"
   ]
  },
  {
   "cell_type": "code",
   "execution_count": 1,
   "metadata": {
    "scrolled": false
   },
   "outputs": [
    {
     "ename": "NameError",
     "evalue": "name 'main' is not defined",
     "output_type": "error",
     "traceback": [
      "\u001b[0;31m---------------------------------------------------------------------------\u001b[0m",
      "\u001b[0;31mNameError\u001b[0m                                 Traceback (most recent call last)",
      "\u001b[0;32m<ipython-input-1-95a5e4951c17>\u001b[0m in \u001b[0;36m<module>\u001b[0;34m()\u001b[0m\n\u001b[0;32m----> 1\u001b[0;31m \u001b[0mmain\u001b[0m\u001b[0;34m(\u001b[0m\u001b[0mfile\u001b[0m \u001b[0;34m=\u001b[0m \u001b[0;34m'ph.jpg'\u001b[0m\u001b[0;34m,\u001b[0m \u001b[0minc_angle\u001b[0m\u001b[0;34m=\u001b[0m\u001b[0;36m1\u001b[0m\u001b[0;34m,\u001b[0m \u001b[0memiter_angle\u001b[0m\u001b[0;34m=\u001b[0m\u001b[0;36m70.0\u001b[0m\u001b[0;34m,\u001b[0m \u001b[0mdetectors\u001b[0m\u001b[0;34m=\u001b[0m\u001b[0;36m70\u001b[0m\u001b[0;34m,\u001b[0m \u001b[0mwithOffset\u001b[0m \u001b[0;34m=\u001b[0m \u001b[0;32mTrue\u001b[0m\u001b[0;34m)\u001b[0m\u001b[0;34m\u001b[0m\u001b[0m\n\u001b[0m",
      "\u001b[0;31mNameError\u001b[0m: name 'main' is not defined"
     ]
    }
   ],
   "source": [
    "main(file = 'ph.jpg', inc_angle=1, emiter_angle=70.0, detectors=70, withOffset = True)"
   ]
  },
  {
   "cell_type": "code",
   "execution_count": 26,
   "metadata": {},
   "outputs": [],
   "source": [
    "def interaction(inc_angle, emiter_angle, detectors, offset, toAngle):\n",
    "    main(file = 'ph.jpg', inc_angle=inc_angle, emiter_angle=float(emiter_angle), detectors=detectors, offset = offset, withOffset = True, toAngle = toAngle*2)"
   ]
  },
  {
   "cell_type": "code",
   "execution_count": 29,
   "metadata": {
    "scrolled": false
   },
   "outputs": [
    {
     "data": {
      "application/vnd.jupyter.widget-view+json": {
       "model_id": "1c85204e39dd40219f7c65dc84e7b55d",
       "version_major": 2,
       "version_minor": 0
      },
      "text/html": [
       "<p>Failed to display Jupyter Widget of type <code>interactive</code>.</p>\n",
       "<p>\n",
       "  If you're reading this message in the Jupyter Notebook or JupyterLab Notebook, it may mean\n",
       "  that the widgets JavaScript is still loading. If this message persists, it\n",
       "  likely means that the widgets JavaScript library is either not installed or\n",
       "  not enabled. See the <a href=\"https://ipywidgets.readthedocs.io/en/stable/user_install.html\">Jupyter\n",
       "  Widgets Documentation</a> for setup instructions.\n",
       "</p>\n",
       "<p>\n",
       "  If you're reading this message in another frontend (for example, a static\n",
       "  rendering on GitHub or <a href=\"https://nbviewer.jupyter.org/\">NBViewer</a>),\n",
       "  it may mean that your frontend doesn't currently support widgets.\n",
       "</p>\n"
      ],
      "text/plain": [
       "interactive(children=(IntSlider(value=1, description='inc_angle', max=30, min=1), IntSlider(value=70, description='emiter_angle', max=85, min=20, step=5), IntSlider(value=70, description='detectors', max=200, min=20, step=5), FloatSlider(value=1.5, description='offset', max=4.5, min=-1.5), IntSlider(value=180, description='toAngle', max=360, min=30, step=10), Output()), _dom_classes=('widget-interact',))"
      ]
     },
     "metadata": {},
     "output_type": "display_data"
    },
    {
     "data": {
      "text/plain": [
       "<function __main__.interaction>"
      ]
     },
     "execution_count": 29,
     "metadata": {},
     "output_type": "execute_result"
    }
   ],
   "source": [
    "interact(interaction, inc_angle = widgets.IntSlider(min=1,max=30,step=1,value=1), toAngle = widgets.IntSlider(min=30,max=360,step=10,value=180), emiter_angle = widgets.IntSlider(min=20,max=85,step=5,value=70),detectors = widgets.IntSlider(min=20,max=200,step=5,value=70), offset = 1.5)"
   ]
  },
  {
   "cell_type": "code",
   "execution_count": null,
   "metadata": {
    "collapsed": true
   },
   "outputs": [],
   "source": [
    "def draw_up_to_angle(angle):\n",
    "    "
   ]
  }
 ],
 "metadata": {
  "kernelspec": {
   "display_name": "Python 2",
   "language": "python",
   "name": "python2"
  },
  "language_info": {
   "codemirror_mode": {
    "name": "ipython",
    "version": 3
   },
   "file_extension": ".py",
   "mimetype": "text/x-python",
   "name": "python",
   "nbconvert_exporter": "python",
   "pygments_lexer": "ipython3",
   "version": "3.5.2"
  }
 },
 "nbformat": 4,
 "nbformat_minor": 2
}
