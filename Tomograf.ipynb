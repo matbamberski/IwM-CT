{
 "cells": [
  {
   "cell_type": "code",
   "execution_count": 57,
   "metadata": {},
   "outputs": [],
   "source": [
    "%matplotlib inline\n",
    "import numpy as np\n",
    "import math\n",
    "import warnings\n",
    "from skimage import io\n",
    "from pylab import *\n",
    "from matplotlib import pylab as plt\n",
    "import matplotlib.image as mpimg\n",
    "from sklearn.metrics import mean_squared_error\n",
    "from matplotlib.pyplot import imshow\n",
    "from __future__ import print_function\n",
    "from ipywidgets import interact, interactive, fixed, interact_manual\n",
    "import ipywidgets as widgets\n",
    "import pydicom\n",
    "from ipywidgets import FloatSlider\n",
    "warnings.simplefilter(\"ignore\")"
   ]
  },
  {
   "cell_type": "code",
   "execution_count": 58,
   "metadata": {},
   "outputs": [],
   "source": [
    "def bresenham(x1, y1, x2, y2):\n",
    "    x = x1\n",
    "    y = y1\n",
    "    points = []\n",
    "    if x1 < x2:\n",
    "        xi = 1\n",
    "        dx = x2 - x1\n",
    "    else:\n",
    "        xi = -1\n",
    "        dx = x1 - x2\n",
    "\n",
    "    if y1 < y2:\n",
    "        yi = 1\n",
    "        dy = y2 - y1\n",
    "    else:\n",
    "        yi = -1\n",
    "        dy = y1 - y1\n",
    "\n",
    "    points.append([x,y])\n",
    "    \n",
    "    if dx > dy:\n",
    "        ai = (dy - dx) * 2\n",
    "        bi = dy * 2\n",
    "        d = bi - dx\n",
    "        while x != x2:\n",
    "            if d >= 0:\n",
    "                x += xi\n",
    "                y += yi\n",
    "                d += ai\n",
    "            else:\n",
    "                x += xi\n",
    "                d += bi\n",
    "            points.append([x,y])\n",
    "    else:\n",
    "        ai = (dx - dy) * 2\n",
    "        bi = dx * 2\n",
    "        d = bi - dy\n",
    "        while y != y2:\n",
    "            if d >= 0:\n",
    "                x += xi\n",
    "                y += yi\n",
    "                d += ai\n",
    "            else:\n",
    "                y += yi\n",
    "                d += bi\n",
    "            points.append([x,y])\n",
    "\n",
    "    return points"
   ]
  },
  {
   "cell_type": "code",
   "execution_count": 59,
   "metadata": {},
   "outputs": [],
   "source": [
    "def sum_points(points, img):\n",
    "    sumOfPoints = 0\n",
    "    for point in points:\n",
    "        sumOfPoints += img[point[0],point[1]]\n",
    "    return sumOfPoints"
   ]
  },
  {
   "cell_type": "code",
   "execution_count": 60,
   "metadata": {},
   "outputs": [],
   "source": [
    "def sum_points_mean(points, img):\n",
    "    sumOfPoints = sum_points(points,img)\n",
    "    sumOfPoints = sumOfPoints/len(points)\n",
    "    return sumOfPoints"
   ]
  },
  {
   "cell_type": "code",
   "execution_count": 61,
   "metadata": {},
   "outputs": [],
   "source": [
    "def coordToCart(angle, cx, cy, radius):\n",
    "    x = int(math.cos(math.radians(angle)) * (radius)) + cx\n",
    "    y = int(math.sin(math.radians(angle)) * (radius)) + cy\n",
    "    return x,y"
   ]
  },
  {
   "cell_type": "code",
   "execution_count": 62,
   "metadata": {},
   "outputs": [],
   "source": [
    "def filterKernel(size):\n",
    "    img = np.zeros(size)\n",
    "    center = int(size/2)\n",
    "    img[center] = 1.0\n",
    "    for i in range(center+1, len(img)):\n",
    "        dist = i-center\n",
    "        if dist % 2 == 0:\n",
    "            img[i] = 0.0\n",
    "            img[center-dist] = 0.0\n",
    "        else:\n",
    "            img[i] = (-4/math.pow(math.pi,2))/math.pow(i,2)\n",
    "            img[center-dist] = (-4/math.pow(math.pi,2))/math.pow(i,2)\n",
    "            \n",
    "    return img"
   ]
  },
  {
   "cell_type": "code",
   "execution_count": 63,
   "metadata": {},
   "outputs": [],
   "source": [
    "def doTomography(img, emiterAngles, inc_angle, emiterRange=60.0, detectors=201, withFilter=True):\n",
    "    # Przyrost katów inc_angle emitera (położenie emitera), kąt z jakim wysyłane są fale (emiter_angle)\n",
    "    beta = emiterRange*2\n",
    "    emiters = img.copy()\n",
    "    img_size = img.shape[0]\n",
    "    centre = int(img_size/2)\n",
    "    radius = centre-5\n",
    "    \n",
    "    if (detectors % 2 != 1):\n",
    "        detectors += 1\n",
    "    \n",
    "    if withFilter:\n",
    "        splotFunc = filterKernel(detectors)\n",
    "    sinogram = np.zeros((len(emiterAngles),detectors))\n",
    "\n",
    "    #petla - kazda pozycja emitera\n",
    "    for angle in emiterAngles:\n",
    "        emiter_x, emiter_y = coordToCart(angle, centre, centre, radius)\n",
    "        emiters[emiter_y, emiter_x] = 255\n",
    "    \n",
    "        sin_results = np.zeros(detectors)\n",
    "        #petla - kazda pozycja detektora\n",
    "        \n",
    "        for a in range(detectors):\n",
    "            alfa = angle + 180 - beta/2 + a*beta/(detectors-1)\n",
    "            detx, dety = coordToCart(alfa, centre, centre, radius)\n",
    "            \n",
    "            if dety < emiter_y:\n",
    "                points = bresenham(detx, dety, emiter_x, emiter_y)\n",
    "            else:\n",
    "                points = bresenham(emiter_x, emiter_y, detx, dety)\n",
    "            \n",
    "            #sinogram[int(angle/inc_angle),a] = sum_points(points, img)\n",
    "            sin_results[a] = sum_points(points, img)\n",
    "        \n",
    "        if withFilter:\n",
    "            sinogram[int(angle/inc_angle),:] = np.convolve(sin_results, splotFunc, 'same')\n",
    "        else:\n",
    "            sinogram[int(angle/inc_angle),:] = sin_results\n",
    "        \n",
    "    return emiters, sinogram"
   ]
  },
  {
   "cell_type": "code",
   "execution_count": 64,
   "metadata": {},
   "outputs": [],
   "source": [
    "def createOffset(img, offset=2.0):\n",
    "    square_size = img.shape[0]\n",
    "    side = int((int(square_size*offset) - square_size)/2)\n",
    "    image = np.zeros((int(square_size*offset),int(square_size*offset)))\n",
    "    for i in range(square_size):\n",
    "        for j in range(square_size):\n",
    "            image[i+side,j+side]= img[i,j]\n",
    "    return image"
   ]
  },
  {
   "cell_type": "code",
   "execution_count": 65,
   "metadata": {},
   "outputs": [],
   "source": [
    "def delOffset(img, offset = 2.0):\n",
    "    square_size = img.shape[0]\n",
    "    size_without_offset = int(math.ceil(square_size/offset))\n",
    "\n",
    "    side = int((square_size - size_without_offset)/2)\n",
    "    image = np.zeros((size_without_offset,size_without_offset))\n",
    "    for i in range(size_without_offset):\n",
    "        for j in range(size_without_offset):\n",
    "            image[i,j]= img[i+side,j+side]\n",
    "    return image"
   ]
  },
  {
   "cell_type": "code",
   "execution_count": 66,
   "metadata": {},
   "outputs": [],
   "source": [
    "def createSquare(square_size=500):\n",
    "    square = 254*np.ones((square_size,square_size), dtype=np.float64)\n",
    "    return square"
   ]
  },
  {
   "cell_type": "code",
   "execution_count": 67,
   "metadata": {},
   "outputs": [],
   "source": [
    "def normalize(img):\n",
    "    min_value = np.min(img)\n",
    "    max_value = np.max(img)\n",
    "    for i in range(len(img)):\n",
    "        for j in range(len(img[i])):\n",
    "            img[i,j]=(img[i,j] - min_value)/(max_value-min_value) *255   \n",
    "    return img"
   ]
  },
  {
   "cell_type": "code",
   "execution_count": 68,
   "metadata": {},
   "outputs": [],
   "source": [
    "def meanError(imgIn, imgOut):\n",
    "    if imgIn.shape!=imgOut.shape:\n",
    "        return 0\n",
    "    error = np.zeros(imgIn.shape[0])\n",
    "    \n",
    "    for i in range(imgIn.shape[0]):\n",
    "        error[i] = mean_squared_error(imgIn[i], imgOut[i])\n",
    "    \n",
    "    return error"
   ]
  },
  {
   "cell_type": "code",
   "execution_count": 69,
   "metadata": {},
   "outputs": [],
   "source": [
    "def calculateError(img,img2):\n",
    "    if len(img) != len(img2):\n",
    "        return (False, 0)\n",
    "    if len(img[0]) != len(img2[0]):\n",
    "        return (False, 0)\n",
    "    error = 0.0\n",
    "    for i in range(len(img)):\n",
    "        for j in range(len(img[i])):\n",
    "            error = error + (img[i,j]-img2[i,j])**2\n",
    "    return (True, error)"
   ]
  },
  {
   "cell_type": "code",
   "execution_count": 70,
   "metadata": {},
   "outputs": [],
   "source": [
    "def blurImage(img):\n",
    "    print(len(img))\n",
    "    newImage = np.zeros((len(img),len(img[0])),dtype=np.float64)\n",
    "    print(newImage)\n",
    "    for i in range(len(img)):\n",
    "        for j in range(len(img[i])):\n",
    "            if(i!=0 and i!=len(img)-1 and j!=0 and j!=len(img[i])-1):\n",
    "                newImage[i,j] = (img[i-1,j-1] + img[i-1,j]*2 + img[i-1,j+1] + img[i,j-1]*2 + img[i,j]*3 + img[i,j+1]*2 + img[i+1,j-1] + img[i+1,j]*2 + img[i+1,j+1])/15\n",
    "            else:\n",
    "                newImage[i,j] = img[i,j]\n",
    "    return newImage"
   ]
  },
  {
   "cell_type": "code",
   "execution_count": 71,
   "metadata": {},
   "outputs": [],
   "source": [
    "def doInvTomography(sinogram, img_size, emiterAngles, inc_angle, emiterRange=60.0, detectors=201):\n",
    "    # Przyrost katów inc_angle emitera (położenie emitera), kąt z jakim wysyłane są fale (emiter_angle)\n",
    "    beta = emiterRange*2\n",
    "    centre = int(img_size/2)\n",
    "    radius = centre-5\n",
    "    #print(sinogram)\n",
    "    img = np.zeros((img_size, img_size))\n",
    "    \n",
    "    if (detectors % 2 != 1):\n",
    "        detectors += 1\n",
    "\n",
    "    #petla - kazda pozycja emitera\n",
    "    for angle in emiterAngles:\n",
    "        emiter_x, emiter_y = coordToCart(angle, centre, centre, radius)\n",
    "        \n",
    "\n",
    "        #petla - kazda pozycja detektora\n",
    "        for a in range(detectors):\n",
    "            alfa = angle + 180 - beta/2 + a*beta/(detectors-1)\n",
    "            detx, dety = coordToCart(alfa, centre, centre, radius)\n",
    "            #image[detx,dety] = 155\n",
    "            if dety < emiter_y:\n",
    "                points = bresenham(detx, dety, emiter_x, emiter_y)\n",
    "            else:\n",
    "                points = bresenham(emiter_x, emiter_y, detx, dety)\n",
    "\n",
    "            for point in points:\n",
    "                img[point[0], point[1]] += int(sinogram[int(angle/inc_angle), a])\n",
    "    return img"
   ]
  },
  {
   "cell_type": "code",
   "execution_count": 72,
   "metadata": {},
   "outputs": [],
   "source": [
    "def cutDownValues(img, cutDownValue = 15):\n",
    "    for i in range(len(img)):\n",
    "        for j in range(len(img[i])):\n",
    "            img[i,j] = img[i,j] - cutDownValue if img[i,j] - cutDownValue > 0 else 0\n",
    "    return img"
   ]
  },
  {
   "cell_type": "code",
   "execution_count": 73,
   "metadata": {},
   "outputs": [],
   "source": [
    "def main(file='square', square_size=500, offset=2, \n",
    "         inc_angle=0.5, emiterRange=60.0, detectors=201, withFilter = True, upToAngle = 360):\n",
    "    if file != 'square':\n",
    "        img = mpimg.imread(file)\n",
    "    else:\n",
    "        img = createSquare(square_size)\n",
    "    \n",
    "    imagesCount = 5\n",
    "    \n",
    "    #obrazek wyjsciowy z offsetem\n",
    "    fig = figure(figsize=(80,40))\n",
    "    imgWithOffset = createOffset(img, offset)\n",
    "    subplot(5,1,1)\n",
    "    imshow(imgWithOffset, cmap='gray')\n",
    "    imgSize = imgWithOffset.shape[0]\n",
    "    \n",
    "    #sinogram\n",
    "    emiterAngles = np.linspace(0, upToAngle, upToAngle/inc_angle, endpoint=False)\n",
    "    emiters, sinogram = doTomography(imgWithOffset, emiterAngles, inc_angle, emiterRange, detectors, withFilter)\n",
    "    subplot(5,1,2)\n",
    "    imshow(sinogram, cmap='gray')\n",
    "    \n",
    "    \n",
    "    #obrazem z sinogramu\n",
    "    imgFromSinogram = doInvTomography(sinogram, imgSize, emiterAngles, inc_angle, emiterRange, detectors)\n",
    "    subplot(5,1,3)\n",
    "    imshow(imgFromSinogram, cmap='gray')\n",
    "    \n",
    "    #obciecie offsetu\n",
    "    imgToCompare = delOffset(imgFromSinogram, offset)\n",
    "\n",
    "        \n",
    "    normalized_image = normalize(imgToCompare)\n",
    "    subplot(5,1,4)\n",
    "    imshow(normalized_image, cmap='gray')\n",
    "    \n",
    "    bluredImage = blurImage(normalized_image)\n",
    "    subplot(5,1,5)\n",
    "    imshow(bluredImage, cmap='gray')\n",
    "    print(meanError(img, normalized_image))\n",
    "    print(mean_squared_error(img, normalized_image))"
   ]
  },
  {
   "cell_type": "code",
   "execution_count": 74,
   "metadata": {
    "scrolled": false
   },
   "outputs": [
    {
     "data": {
      "application/vnd.jupyter.widget-view+json": {
       "model_id": "f9e5f5a1d27a4adf852ddee5562c41e4",
       "version_major": 2,
       "version_minor": 0
      },
      "text/html": [
       "<p>Failed to display Jupyter Widget of type <code>interactive</code>.</p>\n",
       "<p>\n",
       "  If you're reading this message in the Jupyter Notebook or JupyterLab Notebook, it may mean\n",
       "  that the widgets JavaScript is still loading. If this message persists, it\n",
       "  likely means that the widgets JavaScript library is either not installed or\n",
       "  not enabled. See the <a href=\"https://ipywidgets.readthedocs.io/en/stable/user_install.html\">Jupyter\n",
       "  Widgets Documentation</a> for setup instructions.\n",
       "</p>\n",
       "<p>\n",
       "  If you're reading this message in another frontend (for example, a static\n",
       "  rendering on GitHub or <a href=\"https://nbviewer.jupyter.org/\">NBViewer</a>),\n",
       "  it may mean that your frontend doesn't currently support widgets.\n",
       "</p>\n"
      ],
      "text/plain": [
       "interactive(children=(FloatSlider(value=0.5, description='inc_angle', max=10.0, min=0.1), IntSlider(value=70, description='emiter_angle', max=85, min=20, step=5), IntSlider(value=70, description='detectors', max=200, min=20, step=5), FloatSlider(value=1.5, description='offset', max=5.0, min=1.0, step=0.5), IntSlider(value=180, description='toAngle', max=360, min=30, step=10), Checkbox(value=True, description='withFilter'), Button(description='Run Interact', style=ButtonStyle()), Output()), _dom_classes=('widget-interact',))"
      ]
     },
     "metadata": {},
     "output_type": "display_data"
    },
    {
     "data": {
      "text/plain": [
       "<function __main__.interaction>"
      ]
     },
     "execution_count": 74,
     "metadata": {},
     "output_type": "execute_result"
    }
   ],
   "source": [
    "from IPython.display import clear_output\n",
    "def interaction(inc_angle, emiter_angle, detectors, offset, toAngle, withFilter):\n",
    "    main(file = 'ph.jpg', inc_angle=inc_angle, emiterRange=float(emiter_angle), detectors=detectors, offset = offset, upToAngle = toAngle, withFilter = withFilter)\n",
    "interact_manual(interaction, inc_angle = FloatSlider(min=0.1,max=10,step=0.1,value=0.5), toAngle = widgets.IntSlider(min=30,max=360,step=10,value=180), emiter_angle = widgets.IntSlider(min=20,max=85,step=5,value=70),detectors = widgets.IntSlider(min=20,max=200,step=5,value=70), offset = FloatSlider(min=1,max=5,step=0.5,value=1.5), withFilter = True)"
   ]
  }
 ],
 "metadata": {
  "kernelspec": {
   "display_name": "Python 2",
   "language": "python",
   "name": "python2"
  },
  "language_info": {
   "codemirror_mode": {
    "name": "ipython",
    "version": 3
   },
   "file_extension": ".py",
   "mimetype": "text/x-python",
   "name": "python",
   "nbconvert_exporter": "python",
   "pygments_lexer": "ipython3",
   "version": "3.5.2"
  }
 },
 "nbformat": 4,
 "nbformat_minor": 2
}
