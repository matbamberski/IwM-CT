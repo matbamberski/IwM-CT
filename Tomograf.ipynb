{
 "cells": [
  {
   "cell_type": "code",
   "execution_count": 1,
   "metadata": {},
   "outputs": [],
   "source": [
    "%matplotlib inline\n",
    "import numpy as np\n",
    "import math\n",
    "from skimage import io\n",
    "from matplotlib import pylab as plt"
   ]
  },
  {
   "cell_type": "code",
   "execution_count": 2,
   "metadata": {},
   "outputs": [],
   "source": [
    "def bresenham(x1, y1, x2, y2):\n",
    "    x = x1\n",
    "    y = y1\n",
    "    points = []\n",
    "    if x1 < x2:\n",
    "        xi = 1\n",
    "        dx = x2 - x1\n",
    "    else:\n",
    "        xi = -1\n",
    "        dx = x1 - x2\n",
    "\n",
    "    if y1 < y2:\n",
    "        yi = 1\n",
    "        dy = y2 - y1\n",
    "    else:\n",
    "        yi = -1\n",
    "        dy = y1 - y1\n",
    "\n",
    "    points.append([x,y])\n",
    "    \n",
    "    if dx > dy:\n",
    "        ai = (dy - dx) * 2\n",
    "        bi = dy * 2\n",
    "        d = bi - dx\n",
    "        while x != x2:\n",
    "            if d >= 0:\n",
    "                x += xi\n",
    "                y += yi\n",
    "                d += ai\n",
    "            else:\n",
    "                x += xi\n",
    "                d += bi\n",
    "            points.append([x,y])\n",
    "    else:\n",
    "        ai = (dx - dy) * 2\n",
    "        bi = dx * 2\n",
    "        d = bi - dy\n",
    "        while y != y2:\n",
    "            if d >= 0:\n",
    "                x += xi\n",
    "                y += yi\n",
    "                d += ai\n",
    "            else:\n",
    "                y += yi\n",
    "                d += bi\n",
    "            points.append([x,y])\n",
    "\n",
    "    return points"
   ]
  },
  {
   "cell_type": "code",
   "execution_count": 3,
   "metadata": {},
   "outputs": [],
   "source": [
    "def sum_points(points, img):\n",
    "    sumOfPoints = 0\n",
    "    for point in points:\n",
    "        sumOfPoints += img[point[0],point[1]]\n",
    "    return sumOfPoints"
   ]
  },
  {
   "cell_type": "code",
   "execution_count": 4,
   "metadata": {},
   "outputs": [],
   "source": [
    "def coordToCart(angle, cx, cy, radius):\n",
    "    x = int(math.cos(math.radians(angle)) * (radius)) + cx\n",
    "    y = int(math.sin(math.radians(angle)) * (radius)) + cy\n",
    "    return x,y"
   ]
  },
  {
   "cell_type": "code",
   "execution_count": 53,
   "metadata": {},
   "outputs": [
    {
     "data": {
      "text/plain": [
       "<matplotlib.image.AxesImage at 0x7f694ebfeac8>"
      ]
     },
     "execution_count": 53,
     "metadata": {},
     "output_type": "execute_result"
    },
    {
     "data": {
      "image/png": "[encoded data removed]",
      "text/plain": [
       "<Figure size 2880x1440 with 1 Axes>"
      ]
     },
     "metadata": {},
     "output_type": "display_data"
    }
   ],
   "source": [
    "square_size = 100\n",
    "square = np.zeros((square_size,square_size), dtype=np.float64)\n",
    "square[int(5*square_size/11):int(6*square_size/11), int(5*square_size/11):int(6*square_size/11)]=255\n",
    "#io.imshow(square, cmap='gray')\n",
    "\n",
    "# Przyrost katów inc_angle emitera (położenie emitera), kąt z jakim wysyłane są fale (emiter_angle)\n",
    "inc_angle, emiter_angle = 2, 15.0\n",
    "beta = emiter_angle*2\n",
    "centre = int(square_size/2)\n",
    "detectors = 21\n",
    "radius = centre-5\n",
    "\n",
    "sinogram = np.zeros((int(360/inc_angle),detectors))\n",
    "\n",
    "#petla - kazda pozycja emitera\n",
    "for angle in range(0, 360, inc_angle):\n",
    "    emiter_x, emiter_y = coordToCart(angle, centre, centre, radius)\n",
    "    \n",
    "   \n",
    "    #petla - kazda pozycja detektora\n",
    "    for a in range(detectors):\n",
    "        alfa = angle + 180 - beta/2 + a*beta/(detectors-1)\n",
    "        detx, dety = coordToCart(alfa, centre, centre, radius)\n",
    "\n",
    "        if dety < emiter_y:\n",
    "            points = bresenham(detx, dety, emiter_x, emiter_y)\n",
    "        else:\n",
    "            points = bresenham(emiter_x, emiter_y, detx, dety)\n",
    "        \n",
    "        sinogram[int(angle/inc_angle),a] = sum_points(points, square)\n",
    "        \n",
    "#print( sinogram)\n",
    "#print(square[0,0])\n",
    "fig, ax = plt.subplots(figsize=(40,20))\n",
    "#ax.imshow(square, cmap='gray')\n",
    "ax.imshow(sinogram, cmap='gray')"
   ]
  },
  {
   "cell_type": "code",
   "execution_count": null,
   "metadata": {
    "collapsed": true
   },
   "outputs": [],
   "source": []
  },
  {
   "cell_type": "code",
   "execution_count": null,
   "metadata": {
    "collapsed": true
   },
   "outputs": [],
   "source": []
  }
 ],
 "metadata": {
  "kernelspec": {
   "display_name": "Python 2",
   "language": "python",
   "name": "python2"
  },
  "language_info": {
   "codemirror_mode": {
    "name": "ipython",
    "version": 3
   },
   "file_extension": ".py",
   "mimetype": "text/x-python",
   "name": "python",
   "nbconvert_exporter": "python",
   "pygments_lexer": "ipython3",
   "version": "3.5.2"
  }
 },
 "nbformat": 4,
 "nbformat_minor": 2
}
