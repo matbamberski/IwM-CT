{
 "cells": [
  {
   "cell_type": "code",
   "execution_count": 35,
   "metadata": {},
   "outputs": [],
   "source": [
    "%matplotlib inline\n",
    "import numpy as np\n",
    "import math\n",
    "import warnings\n",
    "from skimage import io\n",
    "from pylab import *\n",
    "from matplotlib import pylab as plt\n",
    "import matplotlib.image as mpimg\n",
    "from matplotlib.pyplot import imshow\n",
    "\n",
    "warnings.simplefilter(\"ignore\")"
   ]
  },
  {
   "cell_type": "code",
   "execution_count": 36,
   "metadata": {},
   "outputs": [],
   "source": [
    "def bresenham(x1, y1, x2, y2):\n",
    "    x = x1\n",
    "    y = y1\n",
    "    points = []\n",
    "    if x1 < x2:\n",
    "        xi = 1\n",
    "        dx = x2 - x1\n",
    "    else:\n",
    "        xi = -1\n",
    "        dx = x1 - x2\n",
    "\n",
    "    if y1 < y2:\n",
    "        yi = 1\n",
    "        dy = y2 - y1\n",
    "    else:\n",
    "        yi = -1\n",
    "        dy = y1 - y1\n",
    "\n",
    "    points.append([x,y])\n",
    "    \n",
    "    if dx > dy:\n",
    "        ai = (dy - dx) * 2\n",
    "        bi = dy * 2\n",
    "        d = bi - dx\n",
    "        while x != x2:\n",
    "            if d >= 0:\n",
    "                x += xi\n",
    "                y += yi\n",
    "                d += ai\n",
    "            else:\n",
    "                x += xi\n",
    "                d += bi\n",
    "            points.append([x,y])\n",
    "    else:\n",
    "        ai = (dx - dy) * 2\n",
    "        bi = dx * 2\n",
    "        d = bi - dy\n",
    "        while y != y2:\n",
    "            if d >= 0:\n",
    "                x += xi\n",
    "                y += yi\n",
    "                d += ai\n",
    "            else:\n",
    "                y += yi\n",
    "                d += bi\n",
    "            points.append([x,y])\n",
    "\n",
    "    return points"
   ]
  },
  {
   "cell_type": "code",
   "execution_count": 37,
   "metadata": {},
   "outputs": [],
   "source": [
    "def sum_points(points, img):\n",
    "    sumOfPoints = 0\n",
    "    for point in points:\n",
    "        sumOfPoints += img[point[0],point[1]]\n",
    "    return sumOfPoints"
   ]
  },
  {
   "cell_type": "code",
   "execution_count": 38,
   "metadata": {},
   "outputs": [],
   "source": [
    "def coordToCart(angle, cx, cy, radius):\n",
    "    x = int(math.cos(math.radians(angle)) * (radius)) + cx\n",
    "    y = int(math.sin(math.radians(angle)) * (radius)) + cy\n",
    "    return x,y"
   ]
  },
  {
   "cell_type": "code",
   "execution_count": 10,
   "metadata": {},
   "outputs": [
    {
     "data": {
      "text/plain": [
       "<matplotlib.image.AxesImage at 0x7fa35cc31438>"
      ]
     },
     "execution_count": 10,
     "metadata": {},
     "output_type": "execute_result"
    },
    {
     "data": {
      "image/png": "[encoded data removed]",
      "text/plain": [
       "<matplotlib.figure.Figure at 0x7fa33a3f1c88>"
      ]
     },
     "metadata": {},
     "output_type": "display_data"
    },
    {
     "data": {
      "image/png": "[encoded data removed]",
      "text/plain": [
       "<matplotlib.figure.Figure at 0x7fa3640415f8>"
      ]
     },
     "metadata": {},
     "output_type": "display_data"
    }
   ],
   "source": [
    "square_size = 500\n",
    "square = np.zeros((square_size,square_size), dtype=np.float64)\n",
    "#square[int(square_size/3):int(2*square_size/3), int(square_size/3):int(2*square_size/3)]=255\n",
    "square[0:square_size,0:square_size] = 255\n",
    "\n",
    "offset = int((int(square_size*1.5) - square_size)/2)\n",
    "image = np.zeros((int(square_size*1.5),int(square_size*1.5)))\n",
    "for i in range(square_size):\n",
    "    for j in range(square_size):\n",
    "        image[i+offset,j+offset]= square[i,j]\n",
    "    \n",
    "\n",
    "io.imshow(image, cmap='gray')\n",
    "\n",
    "# Przyrost katów inc_angle emitera (położenie emitera), kąt z jakim wysyłane są fale (emiter_angle)\n",
    "inc_angle, emiter_angle = 2, 15.0\n",
    "beta = emiter_angle*2\n",
    "centre = int(square_size*1.5/2)\n",
    "detectors = 21\n",
    "radius = centre-3\n",
    "\n",
    "sinogram = np.zeros((int(360/inc_angle),detectors))\n",
    "image[centre, centre] = 0\n",
    "\n",
    "#petla - kazda pozycja emitera\n",
    "for angle in range(0, 360, inc_angle):\n",
    "    emiter_x, emiter_y = coordToCart(angle, centre, centre, radius)\n",
    "    \n",
    "   \n",
    "    #petla - kazda pozycja detektora\n",
    "    for a in range(detectors):\n",
    "        alfa = angle + 180 - beta/2 + a*beta/(detectors-1)\n",
    "        detx, dety = coordToCart(alfa, centre, centre, radius)\n",
    "        image[detx,dety] = 155\n",
    "        if dety < emiter_y:\n",
    "            points = bresenham(detx, dety, emiter_x, emiter_y)\n",
    "        else:\n",
    "            points = bresenham(emiter_x, emiter_y, detx, dety)\n",
    "        \n",
    "        sinogram[int(angle/inc_angle),a] = sum_points(points, image)\n",
    "        \n",
    "#print(sinogram)\n",
    "#print(square[0,0])\n",
    "fig, ax = plt.subplots(figsize=(20,10))\n",
    "ax.imshow(image, cmap='gray')\n",
    "#ax.imshow(sinogram, cmap='gray')"
   ]
  },
  {
   "cell_type": "code",
   "execution_count": 58,
   "metadata": {},
   "outputs": [],
   "source": [
    "def doTomography(img, inc_angle=2, emiter_angle=15.0, detectors=21):\n",
    "    # Przyrost katów inc_angle emitera (położenie emitera), kąt z jakim wysyłane są fale (emiter_angle)\n",
    "    beta = emiter_angle*2\n",
    "    emiters = img.copy()\n",
    "    img_size = img.shape[0]\n",
    "    centre = int(img_size/2)\n",
    "    radius = centre-5\n",
    "    sinogram = np.zeros((int(360/inc_angle),detectors))\n",
    "\n",
    "    #petla - kazda pozycja emitera\n",
    "    for angle in range(0, 360, inc_angle):\n",
    "        emiter_x, emiter_y = coordToCart(angle, centre, centre, radius)\n",
    "        emiters[emiter_y, emiter_x] = 255\n",
    "    \n",
    "        #petla - kazda pozycja detektora\n",
    "        for a in range(detectors):\n",
    "            alfa = angle + 180 - beta/2 + a*beta/(detectors-1)\n",
    "            detx, dety = coordToCart(alfa, centre, centre, radius)\n",
    "            \n",
    "            if dety < emiter_y:\n",
    "                points = bresenham(detx, dety, emiter_x, emiter_y)\n",
    "            else:\n",
    "                points = bresenham(emiter_x, emiter_y, detx, dety)\n",
    "\n",
    "            sinogram[int(angle/inc_angle),a] = sum_points(points, img)\n",
    "            \n",
    "    return emiters, sinogram\n",
    "\n",
    "\n",
    "\n",
    "def createOffset(img, offset=1.5):\n",
    "    #square = np.zeros((square_size,square_size), dtype=np.float64)\n",
    "    #square[int(square_size/3):int(2*square_size/3), int(square_size/3):int(2*square_size/3)]=255\n",
    "    #square[0:square_size,0:square_size] = 255\n",
    "    square_size = img.shape[0]\n",
    "\n",
    "    side = int((int(square_size*offset) - square_size)/2)\n",
    "    image = np.zeros((int(square_size*offset),int(square_size*offset)))\n",
    "    for i in range(square_size):\n",
    "        for j in range(square_size):\n",
    "            image[i+side,j+side]= img[i,j]\n",
    "    return image\n",
    "\n",
    "def createSquare(square_size=500):\n",
    "    square = 255*np.ones((square_size,square_size), dtype=np.float64)\n",
    "    return square"
   ]
  },
  {
   "cell_type": "code",
   "execution_count": null,
   "metadata": {},
   "outputs": [],
   "source": []
  },
  {
   "cell_type": "code",
   "execution_count": 59,
   "metadata": {},
   "outputs": [],
   "source": [
    "\n",
    "def doInvTomography(sinogram, img_size, inc_angle=2, emiter_angle=15.0, detectors=21):\n",
    "    # Przyrost katów inc_angle emitera (położenie emitera), kąt z jakim wysyłane są fale (emiter_angle)\n",
    "    beta = emiter_angle*2\n",
    "    centre = int(img_size/2)\n",
    "    radius = centre-5\n",
    "    #print(sinogram)\n",
    "    img = np.zeros((img_size, img_size))\n",
    "\n",
    "    #petla - kazda pozycja emitera\n",
    "    for angle in range(0, 360, inc_angle):\n",
    "        emiter_x, emiter_y = coordToCart(angle, centre, centre, radius)\n",
    "        \n",
    "\n",
    "        #petla - kazda pozycja detektora\n",
    "        for a in range(detectors):\n",
    "            alfa = angle + 180 - beta/2 + a*beta/(detectors-1)\n",
    "            detx, dety = coordToCart(alfa, centre, centre, radius)\n",
    "            #image[detx,dety] = 155\n",
    "            if dety < emiter_y:\n",
    "                points = bresenham(detx, dety, emiter_x, emiter_y)\n",
    "            else:\n",
    "                points = bresenham(emiter_x, emiter_y, detx, dety)\n",
    "\n",
    "            for point in points:\n",
    "             #   print(point[1], point[0])\n",
    "                img[point[0], point[1]] += int(sinogram[int(angle/inc_angle), a])\n",
    "\n",
    "    #fig, ax = plt.subplots(figsize=(20,10))\n",
    "    #ax.imshow(image, cmap='gray')\n",
    "    #ax.imshow(img, cmap='gray')\n",
    "    return img\n",
    "\n",
    "def main(file='square', square_size=500, offset=1.5, inc_angle=2, emiter_angle=15.0, detectors=21):\n",
    "    if file != 'square':\n",
    "        img = mpimg.imread(file)\n",
    "    else:\n",
    "        img = createSquare(square_size)\n",
    "    \n",
    "    #obrazek wyjsciowy z offsetem\n",
    "    fig = figure(figsize=(40,20))\n",
    "    imgWithOffset = createOffset(img, offset)\n",
    "    subplot(4,1,1)\n",
    "    imshow(imgWithOffset, cmap='gray')\n",
    "    imgSize = imgWithOffset.shape[0]\n",
    "    \n",
    "    #sinogram\n",
    "    emiters, sinogram = doTomography(imgWithOffset, inc_angle, emiter_angle, detectors)\n",
    "    subplot(4,1,2)\n",
    "    imshow(sinogram, cmap='gray')\n",
    "    \n",
    "    \n",
    "    #obrazem z sinogramu\n",
    "    imgFromSinogram = doInvTomography(sinogram, imgSize, inc_angle, emiter_angle, detectors)\n",
    "    subplot(4,1,3)\n",
    "    imshow(imgFromSinogram, cmap='gray')\n",
    "    \n",
    "    subplot(4,1,4)\n",
    "    imshow(emiters, cmap='gray')"
   ]
  },
  {
   "cell_type": "code",
   "execution_count": 60,
   "metadata": {},
   "outputs": [
    {
     "data": {
      "image/png": "[encoded data removed]",
      "text/plain": [
       "<matplotlib.figure.Figure at 0x7fa33a334780>"
      ]
     },
     "metadata": {},
     "output_type": "display_data"
    }
   ],
   "source": [
    "main(square_size=1, offset=200, detectors=29)\n"
   ]
  },
  {
   "cell_type": "code",
   "execution_count": null,
   "metadata": {},
   "outputs": [],
   "source": []
  },
  {
   "cell_type": "code",
   "execution_count": null,
   "metadata": {},
   "outputs": [],
   "source": []
  }
 ],
 "metadata": {
  "kernelspec": {
   "display_name": "Python 3",
   "language": "python",
   "name": "python3"
  },
  "language_info": {
   "codemirror_mode": {
    "name": "ipython",
    "version": 3
   },
   "file_extension": ".py",
   "mimetype": "text/x-python",
   "name": "python",
   "nbconvert_exporter": "python",
   "pygments_lexer": "ipython3",
   "version": "3.6.4"
  }
 },
 "nbformat": 4,
 "nbformat_minor": 2
}
