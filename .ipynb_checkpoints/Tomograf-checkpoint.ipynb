{
 "cells": [
  {
   "cell_type": "code",
   "execution_count": 16,
   "metadata": {},
   "outputs": [],
   "source": [
    "%matplotlib inline\n",
    "import numpy as np\n",
    "from skimage import io\n",
    "from matplotlib import pylab as plt"
   ]
  },
  {
   "cell_type": "code",
   "execution_count": 9,
   "metadata": {},
   "outputs": [],
   "source": [
    "def bresenham(x1, y1, x2, y2, img):\n",
    "    x = x1\n",
    "    y = y1\n",
    "    sumOfLine = 0\n",
    "    count = 0\n",
    "    if x1 < x2:\n",
    "        xi = 1\n",
    "        dx = x2 - x1\n",
    "    else:\n",
    "        xi = -1\n",
    "        dx = x1 - x2\n",
    "\n",
    "    if y1 < y2:\n",
    "        yi = 1\n",
    "        dy = y2 - y1\n",
    "    else:\n",
    "        yi = -1\n",
    "        dy = y1 - y1\n",
    "\n",
    "    sumOfLine += img[x, y]\n",
    "    count += 1\n",
    "    if dx > dy:\n",
    "        ai = (dy - dx) * 2\n",
    "        bi = dy * 2\n",
    "        d = bi - dx\n",
    "        while x != x2:\n",
    "            if d >= 0:\n",
    "                x += xi\n",
    "                y += yi\n",
    "                d += ai\n",
    "            else:\n",
    "                x += xi\n",
    "                d += bi\n",
    "            sumOfLine += img[x, y]\n",
    "            count += 1\n",
    "    else:\n",
    "        ai = (dx - dy) * 2\n",
    "        bi = dx * 2\n",
    "        d = bi - dy\n",
    "        while y != y2:\n",
    "            if d >= 0:\n",
    "                x += xi\n",
    "                y += yi\n",
    "                d += ai\n",
    "            else:\n",
    "                y += yi\n",
    "                d += bi\n",
    "            sumOfLine += img[x, y]\n",
    "            count += 1\n",
    "\n",
    "    return sumOfLine/count"
   ]
  },
  {
   "cell_type": "code",
   "execution_count": 10,
   "metadata": {},
   "outputs": [
    {
     "name": "stderr",
     "output_type": "stream",
     "text": [
      "/home/mateusz/anaconda3/lib/python3.6/site-packages/skimage/io/_plugins/matplotlib_plugin.py:51: FutureWarning: Conversion of the second argument of issubdtype from `float` to `np.floating` is deprecated. In future, it will be treated as `np.float64 == np.dtype(float).type`.\n",
      "  out_of_range_float = (np.issubdtype(image.dtype, np.float) and\n",
      "/home/mateusz/anaconda3/lib/python3.6/site-packages/skimage/io/_plugins/matplotlib_plugin.py:77: UserWarning: Float image out of standard range; displaying image with stretched contrast.\n",
      "  warn(\"Float image out of standard range; displaying \"\n"
     ]
    },
    {
     "data": {
      "text/plain": [
       "<matplotlib.image.AxesImage at 0x7f11d1ce7cc0>"
      ]
     },
     "execution_count": 10,
     "metadata": {},
     "output_type": "execute_result"
    },
    {
     "data": {
      "image/png": "[encoded data removed]",
      "text/plain": [
       "<matplotlib.figure.Figure at 0x7f11d1d99d30>"
      ]
     },
     "metadata": {},
     "output_type": "display_data"
    }
   ],
   "source": [
    "square_size = 300\n",
    "square = np.zeros((square_size,square_size), dtype=np.float64)\n",
    "square[round(square_size/3):round(2*square_size/3), round(square_size/3):round(2*square_size/3)] = 255\n",
    "io.imshow(square, cmap='gray')"
   ]
  },
  {
   "cell_type": "code",
   "execution_count": 19,
   "metadata": {},
   "outputs": [
    {
     "data": {
      "text/plain": [
       "<matplotlib.image.AxesImage at 0x7f11d1a37470>"
      ]
     },
     "execution_count": 19,
     "metadata": {},
     "output_type": "execute_result"
    },
    {
     "data": {
      "image/png": "[encoded data removed]",
      "text/plain": [
       "<matplotlib.figure.Figure at 0x7f11d1a375c0>"
      ]
     },
     "metadata": {},
     "output_type": "display_data"
    }
   ],
   "source": [
    "# Przyrost katów inc_angle emitera (położenie emitera), kąt z jakim wysyłane są fale (emiter_angle)\n",
    "inc_angle, emiter_angle = 5, 15\n",
    "beta = emiter_angle/2\n",
    "centre = int(square_size/2)\n",
    "detectors = 10\n",
    "\n",
    "sinogram = np.zeros((int(360/inc_angle),detectors))\n",
    "\n",
    "#petla - kazda pozycja emitera\n",
    "for angle in range(0, 360, inc_angle):\n",
    "    emiter_x = int(np.cos(angle) * (centre-5)) + centre\n",
    "    emiter_y = int(np.sin(angle) * (centre-5)) + centre\n",
    "    #square[emiter_x, emiter_y] = 255\n",
    "    \n",
    "    #petla - kazda pozycja detektora\n",
    "    for a in range(detectors):\n",
    "        alfa = angle + 180 - beta/2 + a*beta/(detectors-1)\n",
    "        det_x = int(np.cos(alfa) * (centre-5) + centre)\n",
    "        det_y = int(np.sin(alfa) * (centre-5) + centre)\n",
    "        \n",
    "        #bresenham\n",
    "        suma = bresenham(emiter_x, emiter_y, det_x, det_y, square)\n",
    "        sinogram[int(angle/inc_angle),a] = suma\n",
    "        #print(suma)\n",
    "#print( sinogram)\n",
    "#print(square[0,0])\n",
    "fig, ax = plt.subplots(figsize=(80,20))\n",
    "ax.imshow(sinogram, cmap='gray')"
   ]
  },
  {
   "cell_type": "code",
   "execution_count": null,
   "metadata": {},
   "outputs": [],
   "source": []
  },
  {
   "cell_type": "code",
   "execution_count": null,
   "metadata": {},
   "outputs": [],
   "source": []
  }
 ],
 "metadata": {
  "kernelspec": {
   "display_name": "Python 3",
   "language": "python",
   "name": "python3"
  },
  "language_info": {
   "codemirror_mode": {
    "name": "ipython",
    "version": 3
   },
   "file_extension": ".py",
   "mimetype": "text/x-python",
   "name": "python",
   "nbconvert_exporter": "python",
   "pygments_lexer": "ipython3",
   "version": "3.6.4"
  }
 },
 "nbformat": 4,
 "nbformat_minor": 2
}
